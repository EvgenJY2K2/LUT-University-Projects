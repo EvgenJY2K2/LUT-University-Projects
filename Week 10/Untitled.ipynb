{
 "cells": [
  {
   "cell_type": "code",
   "execution_count": 101,
   "id": "a5200b2f",
   "metadata": {},
   "outputs": [
    {
     "name": "stdout",
     "output_type": "stream",
     "text": [
      "This program demonstrates use of numpy-matrix.\n"
     ]
    },
    {
     "ename": "TypeError",
     "evalue": "input() takes 0 positional arguments but 1 was given",
     "output_type": "error",
     "traceback": [
      "\u001b[0;31m---------------------------------------------------------------------------\u001b[0m",
      "\u001b[0;31mTypeError\u001b[0m                                 Traceback (most recent call last)",
      "Input \u001b[0;32mIn [101]\u001b[0m, in \u001b[0;36m<cell line: 3>\u001b[0;34m()\u001b[0m\n\u001b[1;32m      1\u001b[0m \u001b[38;5;28;01mimport\u001b[39;00m \u001b[38;5;21;01mnumpy\u001b[39;00m \u001b[38;5;28;01mas\u001b[39;00m \u001b[38;5;21;01mnp\u001b[39;00m\n\u001b[1;32m      2\u001b[0m \u001b[38;5;28mprint\u001b[39m(\u001b[38;5;124m\"\u001b[39m\u001b[38;5;124mThis program demonstrates use of numpy-matrix.\u001b[39m\u001b[38;5;124m\"\u001b[39m)\n\u001b[0;32m----> 3\u001b[0m row \u001b[38;5;241m=\u001b[39m \u001b[38;5;28mint\u001b[39m(\u001b[38;5;28;43minput\u001b[39;49m\u001b[43m(\u001b[49m\u001b[38;5;124;43m\"\u001b[39;49m\u001b[38;5;124;43mEnter amount of rows:\u001b[39;49m\u001b[38;5;130;43;01m\\n\u001b[39;49;00m\u001b[38;5;124;43m\"\u001b[39;49m\u001b[43m)\u001b[49m)\n\u001b[1;32m      4\u001b[0m col \u001b[38;5;241m=\u001b[39m \u001b[38;5;28mint\u001b[39m(\u001b[38;5;28minput\u001b[39m(\u001b[38;5;124m\"\u001b[39m\u001b[38;5;124mEnter number of columns:\u001b[39m\u001b[38;5;130;01m\\n\u001b[39;00m\u001b[38;5;124m\"\u001b[39m))\n\u001b[1;32m      6\u001b[0m \u001b[38;5;28mprint\u001b[39m(\u001b[38;5;124m\"\u001b[39m\u001b[38;5;124mZero-matrix of the given rows & columns is:\u001b[39m\u001b[38;5;124m\"\u001b[39m)\n",
      "\u001b[0;31mTypeError\u001b[0m: input() takes 0 positional arguments but 1 was given"
     ]
    }
   ],
   "source": [
    "import numpy as np\n",
    "print(\"This program demonstrates use of numpy-matrix.\")\n",
    "row = int(input(\"Enter amount of rows:\\n\"))\n",
    "col = int(input(\"Enter number of columns:\\n\"))\n",
    "\n",
    "print(\"Zero-matrix of the given rows & columns is:\")\n",
    "col =4\n",
    "row = 4\n",
    "z_array = np.zeros((col, row), dtype=int)\n",
    "print(z_array)\n",
    "\n",
    "array = np.arange(col * row).reshape(row, col)\n",
    "\n",
    "print(\"Matrix printed with np-formatting:\")\n",
    "\n",
    "n_sorted = []\n",
    "row_index = 0\n",
    "for rows in z_array:\n",
    "    column_index = 0\n",
    "    for item in rows:\n",
    "        item = (row_index + 1)*(column_index + 1)\n",
    "        z_array[row_index][column_index] = item\n",
    "        column_index = column_index + 1\n",
    "        n_sorted.append(item)\n",
    "    row_index = row_index + 1\n",
    "print(z_array, '\\n')\n",
    "print(\"Matrix sorted into one array:\")\n",
    "print(np.sort(z_array, axis=None))\n",
    "print(\"Matrix printed with elements separated by semicolons:\")\n",
    "for rows in z_array:\n",
    "    print(\"{};{};{};{};\".format(rows[0], rows[1], rows[2], rows[3]))\n",
    "print(\"\")\n",
    "    \n",
    "while True:\n",
    "    try:\n",
    "        print(\"Shaping the matrix. Please, enter the new dimensions.\")\n",
    "        nrow = int(input(\"Enter amount of new rows:\\n\"))\n",
    "        ncol = int(input(\"Enter number of new columns:\\n\"))\n",
    "        reshape = z_array.reshape(nrow,ncol)\n",
    "    except:\n",
    "        print(\"Faulty shape. Please, try again.\")\n",
    "        continue\n",
    "    else:\n",
    "        break\n",
    "\n",
    "print(\"Newly shaped matrix is:\")\n",
    "print(reshape)\n",
    "    \n",
    "print(\"Largest number in the matrix is:\")\n",
    "print(\"Smallest number in the matrix is:\")\n",
    "print(\"Sum of all values in the matrix is:\")"
   ]
  },
  {
   "cell_type": "markdown",
   "id": "815e4bd1",
   "metadata": {},
   "source": [
    "#### "
   ]
  },
  {
   "cell_type": "code",
   "execution_count": null,
   "id": "eb282892",
   "metadata": {},
   "outputs": [],
   "source": []
  }
 ],
 "metadata": {
  "kernelspec": {
   "display_name": "Python 3 (ipykernel)",
   "language": "python",
   "name": "python3"
  },
  "language_info": {
   "codemirror_mode": {
    "name": "ipython",
    "version": 3
   },
   "file_extension": ".py",
   "mimetype": "text/x-python",
   "name": "python",
   "nbconvert_exporter": "python",
   "pygments_lexer": "ipython3",
   "version": "3.9.12"
  }
 },
 "nbformat": 4,
 "nbformat_minor": 5
}
